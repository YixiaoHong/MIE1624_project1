{
  "nbformat": 4,
  "nbformat_minor": 0,
  "metadata": {
    "colab": {
      "name": "MIE1624_Q3.ipynb",
      "provenance": [],
      "authorship_tag": "ABX9TyORryzkBNEpceYIWpAcSuyJ"
    },
    "kernelspec": {
      "name": "python3",
      "display_name": "Python 3"
    }
  },
  "cells": [
    {
      "cell_type": "code",
      "metadata": {
        "id": "uklTBIWQq2l2",
        "colab_type": "code",
        "colab": {}
      },
      "source": [
        "import pandas as pd\n",
        "ss = 'https://raw.githubusercontent.com/YixiaoHong/MIE1624_project1/master/online_shoppers_intention.csv'\n",
        "df = pd.read_csv(ss, error_bad_lines=False)\n",
        "df.dtypes"
      ],
      "execution_count": 0,
      "outputs": []
    }
  ]
}