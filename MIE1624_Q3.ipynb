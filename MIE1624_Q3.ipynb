{
  "nbformat": 4,
  "nbformat_minor": 0,
  "metadata": {
    "colab": {
      "name": "MIE1624_Q3.ipynb",
      "provenance": []
    },
    "kernelspec": {
      "name": "python3",
      "display_name": "Python 3"
    }
  },
  "cells": [
    {
      "cell_type": "code",
      "metadata": {
        "id": "YyqwIdWSGmKg",
        "colab_type": "code",
        "colab": {}
      },
      "source": [
        "# section 1"
      ],
      "execution_count": 0,
      "outputs": []
    },
    {
      "cell_type": "code",
      "metadata": {
        "id": "uklTBIWQq2l2",
        "colab_type": "code",
        "colab": {
          "base_uri": "https://localhost:8080/",
          "height": 265
        },
        "outputId": "4cc30459-9d23-4fc6-dca3-888a48f9df50"
      },
      "source": [
        "import pandas as pd\n",
        "import numpy as np\n",
        "url = 'https://archive.ics.uci.edu/ml/machine-learning-databases/breast-cancer/breast-cancer.data'\n",
        "df = pd.read_csv(url, error_bad_lines=False)\n",
        "df"
      ],
      "execution_count": 19,
      "outputs": [
        {
          "output_type": "execute_result",
          "data": {
            "text/plain": [
              "<bound method DataFrame.info of      no-recurrence-events  30-39  premeno  30-34  ...  3   left   left_low no.1\n",
              "0    no-recurrence-events  40-49  premeno  20-24  ...  2  right   right_up   no\n",
              "1    no-recurrence-events  40-49  premeno  20-24  ...  2   left   left_low   no\n",
              "2    no-recurrence-events  60-69     ge40  15-19  ...  2  right    left_up   no\n",
              "3    no-recurrence-events  40-49  premeno    0-4  ...  2  right  right_low   no\n",
              "4    no-recurrence-events  60-69     ge40  15-19  ...  2   left   left_low   no\n",
              "..                    ...    ...      ...    ...  ... ..    ...        ...  ...\n",
              "280     recurrence-events  30-39  premeno  30-34  ...  2   left    left_up   no\n",
              "281     recurrence-events  30-39  premeno  20-24  ...  3   left    left_up  yes\n",
              "282     recurrence-events  60-69     ge40  20-24  ...  1  right    left_up   no\n",
              "283     recurrence-events  40-49     ge40  30-34  ...  3   left   left_low   no\n",
              "284     recurrence-events  50-59     ge40  30-34  ...  3   left   left_low   no\n",
              "\n",
              "[285 rows x 10 columns]>"
            ]
          },
          "metadata": {
            "tags": []
          },
          "execution_count": 19
        }
      ]
    },
    {
      "cell_type": "code",
      "metadata": {
        "id": "ToFm9Y1aGpiL",
        "colab_type": "code",
        "colab": {}
      },
      "source": [
        "# section 2"
      ],
      "execution_count": 0,
      "outputs": []
    },
    {
      "cell_type": "code",
      "metadata": {
        "id": "6PlbyX3M8pcc",
        "colab_type": "code",
        "colab": {
          "base_uri": "https://localhost:8080/",
          "height": 514
        },
        "outputId": "3876c17f-e86c-4e90-fad2-2dd3f0d2e805"
      },
      "source": [
        "categorical_features = ['OperatingSystems','Browser','Region','TrafficType','VisitorType','Weekend','Month','Revenue']\n",
        "\n",
        "test = np.array(df['Month'])\n",
        "test[33]\n",
        "\n",
        "feature_num = len(categorical_features)\n",
        "\n",
        "for i in range(feature_num-1):\n",
        "  for j in range(i+1,feature_num):\n",
        "    print(i,j)\n",
        "    "
      ],
      "execution_count": 17,
      "outputs": [
        {
          "output_type": "stream",
          "text": [
            "0 1\n",
            "0 2\n",
            "0 3\n",
            "0 4\n",
            "0 5\n",
            "0 6\n",
            "0 7\n",
            "1 2\n",
            "1 3\n",
            "1 4\n",
            "1 5\n",
            "1 6\n",
            "1 7\n",
            "2 3\n",
            "2 4\n",
            "2 5\n",
            "2 6\n",
            "2 7\n",
            "3 4\n",
            "3 5\n",
            "3 6\n",
            "3 7\n",
            "4 5\n",
            "4 6\n",
            "4 7\n",
            "5 6\n",
            "5 7\n",
            "6 7\n"
          ],
          "name": "stdout"
        }
      ]
    }
  ]
}