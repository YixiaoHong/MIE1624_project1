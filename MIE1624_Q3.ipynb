{
  "nbformat": 4,
  "nbformat_minor": 0,
  "metadata": {
    "colab": {
      "name": "MIE1624_Q3.ipynb",
      "provenance": [],
      "authorship_tag": "ABX9TyOvDPOfo0wYTWaJmcuMUOhY"
    },
    "kernelspec": {
      "name": "python3",
      "display_name": "Python 3"
    }
  },
  "cells": [
    {
      "cell_type": "code",
      "metadata": {
        "id": "uklTBIWQq2l2",
        "colab_type": "code",
        "colab": {}
      },
      "source": [
        "import pandas as pd\n",
        "url = 'https://raw.githubusercontent.com/YixiaoHong/MIE1624_project1/master/online_shoppers_intention.csv'\n",
        "df = pd.read_csv(url, error_bad_lines=False)\n",
        "df.dtypes"
      ],
      "execution_count": 0,
      "outputs": []
    }
  ]
}