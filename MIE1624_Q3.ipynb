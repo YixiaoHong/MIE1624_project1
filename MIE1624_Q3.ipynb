{
  "nbformat": 4,
  "nbformat_minor": 0,
  "metadata": {
    "colab": {
      "name": "MIE1624_Q3.ipynb",
      "provenance": []
    },
    "kernelspec": {
      "name": "python3",
      "display_name": "Python 3"
    }
  },
  "cells": [
    {
      "cell_type": "code",
      "metadata": {
        "id": "YyqwIdWSGmKg",
        "colab_type": "code",
        "colab": {}
      },
      "source": [
        "# section 1"
      ],
      "execution_count": 0,
      "outputs": []
    },
    {
      "cell_type": "markdown",
      "metadata": {
        "id": "nXW4qmwsAyxX",
        "colab_type": "text"
      },
      "source": [
        "# **Breast Cancer Data Description**\n",
        "\n",
        "Citation Request:\n",
        "   This breast cancer domain was obtained from the University Medical Centre,\n",
        "   Institute of Oncology, Ljubljana, Yugoslavia.  Thanks go to M. Zwitter and \n",
        "   M. Soklic for providing the data.  Please include this citation if you plan\n",
        "   to use this database.\n",
        "\n",
        "1. Title: Breast cancer data (Michalski has used this)\n",
        "\n",
        "2. Sources: \n",
        "   -- Matjaz Zwitter & Milan Soklic (physicians)\n",
        "      Institute of Oncology \n",
        "      University Medical Center\n",
        "      Ljubljana, Yugoslavia\n",
        "   -- Donors: Ming Tan and Jeff Schlimmer (Jeffrey.Schlimmer@a.gp.cs.cmu.edu)\n",
        "   -- Date: 11 July 1988\n",
        "\n",
        "3. Past Usage: (Several: here are some)\n",
        "     -- Michalski,R.S., Mozetic,I., Hong,J., & Lavrac,N. (1986). The \n",
        "      Multi-Purpose Incremental Learning System AQ15 and its Testing \n",
        "      Application to Three Medical Domains.  In Proceedings of the \n",
        "      Fifth National Conference on Artificial Intelligence, 1041-1045,\n",
        "      Philadelphia, PA: Morgan Kaufmann.\n",
        "      -- accuracy range: 66%-72%\n",
        "     -- Clark,P. & Niblett,T. (1987). Induction in Noisy Domains.  In \n",
        "      Progress in Machine Learning (from the Proceedings of the 2nd\n",
        "      European Working Session on Learning), 11-30, Bled, \n",
        "      Yugoslavia: Sigma Press.\n",
        "      -- 8 test results given: 65%-72% accuracy range\n",
        "     -- Tan, M., & Eshelman, L. (1988). Using weighted networks to \n",
        "      represent classification knowledge in noisy domains.  Proceedings \n",
        "      of the Fifth International Conference on Machine Learning, 121-134,\n",
        "      Ann Arbor, MI.\n",
        "      -- 4 systems tested: accuracy range was 68%-73.5%\n",
        "    -- Cestnik,G., Konenenko,I, & Bratko,I. (1987). Assistant-86: A\n",
        "      Knowledge-Elicitation Tool for Sophisticated Users.  In I.Bratko\n",
        "      & N.Lavrac (Eds.) Progress in Machine Learning, 31-45, Sigma Press.\n",
        "      -- Assistant-86: 78% accuracy\n",
        "\n",
        "4. Relevant Information:\n",
        "     This is one of three domains provided by the Oncology Institute\n",
        "     that has repeatedly appeared in the machine learning literature.\n",
        "     (See also lymphography and primary-tumor.)\n",
        "\n",
        "     This data set includes 201 instances of one class and 85 instances of\n",
        "     another class.  The instances are described by 9 attributes, some of\n",
        "     which are linear and some are nominal.\n",
        "\n",
        "5. Number of Instances: 286\n",
        "\n",
        "6. Number of Attributes: 9 + the class attribute\n",
        "\n",
        "7. Attribute Information:\n",
        "   1. Class: no-recurrence-events, recurrence-events\n",
        "   2. age: 10-19, 20-29, 30-39, 40-49, 50-59, 60-69, 70-79, 80-89, 90-99.\n",
        "   3. menopause: lt40, ge40, premeno.\n",
        "   4. tumor-size: 0-4, 5-9, 10-14, 15-19, 20-24, 25-29, 30-34, 35-39, 40-44, 45-49, 50-54, 55-59.\n",
        "   5. inv-nodes: 0-2, 3-5, 6-8, 9-11, 12-14, 15-17, 18-20, 21-23, 24-26, 27-29, 30-32, 33-35, 36-39.\n",
        "   6. node-caps: yes, no.\n",
        "   7. deg-malig: 1, 2, 3.\n",
        "   8. breast: left, right.\n",
        "   9. breast-quad: left-up, left-low, right-up,\tright-low, central.\n",
        "  10. irradiat:\tyes, no.\n",
        "\n",
        "8. Missing Attribute Values: (denoted by \"?\")\n",
        "   Attribute #:  Number of instances with missing values:\n",
        "   6.             8\n",
        "   9.             1.\n",
        "\n",
        "9. Class Distribution:\n",
        "    1. no-recurrence-events: 201 instances\n",
        "    2. recurrence-events: 85 instances"
      ]
    },
    {
      "cell_type": "code",
      "metadata": {
        "id": "ZDsGG4mnAv2_",
        "colab_type": "code",
        "colab": {}
      },
      "source": [
        "# section 2"
      ],
      "execution_count": 0,
      "outputs": []
    },
    {
      "cell_type": "code",
      "metadata": {
        "id": "uklTBIWQq2l2",
        "colab_type": "code",
        "colab": {
          "base_uri": "https://localhost:8080/",
          "height": 197
        },
        "outputId": "ace54fd5-1533-4af0-b405-f4f84967cc7a"
      },
      "source": [
        "import pandas as pd\n",
        "import numpy as np\n",
        "url = 'https://archive.ics.uci.edu/ml/machine-learning-databases/breast-cancer/breast-cancer.data'\n",
        "df = pd.read_csv(url, header=None)\n",
        "df.columns = [\"Class\",\"age\",\"menopause\",\"tumor-size\",\"inv-nodes\",\"node-caps\",\"deg-malig\",\"breast\",\"breast-quad\",\"irradiat\"]\n",
        "df.head()"
      ],
      "execution_count": 36,
      "outputs": [
        {
          "output_type": "execute_result",
          "data": {
            "text/html": [
              "<div>\n",
              "<style scoped>\n",
              "    .dataframe tbody tr th:only-of-type {\n",
              "        vertical-align: middle;\n",
              "    }\n",
              "\n",
              "    .dataframe tbody tr th {\n",
              "        vertical-align: top;\n",
              "    }\n",
              "\n",
              "    .dataframe thead th {\n",
              "        text-align: right;\n",
              "    }\n",
              "</style>\n",
              "<table border=\"1\" class=\"dataframe\">\n",
              "  <thead>\n",
              "    <tr style=\"text-align: right;\">\n",
              "      <th></th>\n",
              "      <th>Class</th>\n",
              "      <th>age</th>\n",
              "      <th>menopause</th>\n",
              "      <th>tumor-size</th>\n",
              "      <th>inv-nodes</th>\n",
              "      <th>node-caps</th>\n",
              "      <th>deg-malig</th>\n",
              "      <th>breast</th>\n",
              "      <th>breast-quad</th>\n",
              "      <th>irradiat</th>\n",
              "    </tr>\n",
              "  </thead>\n",
              "  <tbody>\n",
              "    <tr>\n",
              "      <th>0</th>\n",
              "      <td>no-recurrence-events</td>\n",
              "      <td>30-39</td>\n",
              "      <td>premeno</td>\n",
              "      <td>30-34</td>\n",
              "      <td>0-2</td>\n",
              "      <td>no</td>\n",
              "      <td>3</td>\n",
              "      <td>left</td>\n",
              "      <td>left_low</td>\n",
              "      <td>no</td>\n",
              "    </tr>\n",
              "    <tr>\n",
              "      <th>1</th>\n",
              "      <td>no-recurrence-events</td>\n",
              "      <td>40-49</td>\n",
              "      <td>premeno</td>\n",
              "      <td>20-24</td>\n",
              "      <td>0-2</td>\n",
              "      <td>no</td>\n",
              "      <td>2</td>\n",
              "      <td>right</td>\n",
              "      <td>right_up</td>\n",
              "      <td>no</td>\n",
              "    </tr>\n",
              "    <tr>\n",
              "      <th>2</th>\n",
              "      <td>no-recurrence-events</td>\n",
              "      <td>40-49</td>\n",
              "      <td>premeno</td>\n",
              "      <td>20-24</td>\n",
              "      <td>0-2</td>\n",
              "      <td>no</td>\n",
              "      <td>2</td>\n",
              "      <td>left</td>\n",
              "      <td>left_low</td>\n",
              "      <td>no</td>\n",
              "    </tr>\n",
              "    <tr>\n",
              "      <th>3</th>\n",
              "      <td>no-recurrence-events</td>\n",
              "      <td>60-69</td>\n",
              "      <td>ge40</td>\n",
              "      <td>15-19</td>\n",
              "      <td>0-2</td>\n",
              "      <td>no</td>\n",
              "      <td>2</td>\n",
              "      <td>right</td>\n",
              "      <td>left_up</td>\n",
              "      <td>no</td>\n",
              "    </tr>\n",
              "    <tr>\n",
              "      <th>4</th>\n",
              "      <td>no-recurrence-events</td>\n",
              "      <td>40-49</td>\n",
              "      <td>premeno</td>\n",
              "      <td>0-4</td>\n",
              "      <td>0-2</td>\n",
              "      <td>no</td>\n",
              "      <td>2</td>\n",
              "      <td>right</td>\n",
              "      <td>right_low</td>\n",
              "      <td>no</td>\n",
              "    </tr>\n",
              "  </tbody>\n",
              "</table>\n",
              "</div>"
            ],
            "text/plain": [
              "                  Class    age menopause  ... breast breast-quad irradiat\n",
              "0  no-recurrence-events  30-39   premeno  ...   left    left_low       no\n",
              "1  no-recurrence-events  40-49   premeno  ...  right    right_up       no\n",
              "2  no-recurrence-events  40-49   premeno  ...   left    left_low       no\n",
              "3  no-recurrence-events  60-69      ge40  ...  right     left_up       no\n",
              "4  no-recurrence-events  40-49   premeno  ...  right   right_low       no\n",
              "\n",
              "[5 rows x 10 columns]"
            ]
          },
          "metadata": {
            "tags": []
          },
          "execution_count": 36
        }
      ]
    },
    {
      "cell_type": "code",
      "metadata": {
        "id": "ToFm9Y1aGpiL",
        "colab_type": "code",
        "colab": {}
      },
      "source": [
        "# section 3"
      ],
      "execution_count": 0,
      "outputs": []
    },
    {
      "cell_type": "code",
      "metadata": {
        "id": "6PlbyX3M8pcc",
        "colab_type": "code",
        "colab": {
          "base_uri": "https://localhost:8080/",
          "height": 514
        },
        "outputId": "3876c17f-e86c-4e90-fad2-2dd3f0d2e805"
      },
      "source": [
        "categorical_features = ['OperatingSystems','Browser','Region','TrafficType','VisitorType','Weekend','Month','Revenue']\n",
        "\n",
        "test = np.array(df['Month'])\n",
        "test[33]\n",
        "\n",
        "feature_num = len(categorical_features)\n",
        "\n",
        "for i in range(feature_num-1):\n",
        "  for j in range(i+1,feature_num):\n",
        "    print(i,j)\n",
        "    "
      ],
      "execution_count": 17,
      "outputs": [
        {
          "output_type": "stream",
          "text": [
            "0 1\n",
            "0 2\n",
            "0 3\n",
            "0 4\n",
            "0 5\n",
            "0 6\n",
            "0 7\n",
            "1 2\n",
            "1 3\n",
            "1 4\n",
            "1 5\n",
            "1 6\n",
            "1 7\n",
            "2 3\n",
            "2 4\n",
            "2 5\n",
            "2 6\n",
            "2 7\n",
            "3 4\n",
            "3 5\n",
            "3 6\n",
            "3 7\n",
            "4 5\n",
            "4 6\n",
            "4 7\n",
            "5 6\n",
            "5 7\n",
            "6 7\n"
          ],
          "name": "stdout"
        }
      ]
    }
  ]
}